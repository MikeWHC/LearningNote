{
 "cells": [
  {
   "cell_type": "code",
   "execution_count": 5,
   "metadata": {},
   "outputs": [
    {
     "name": "stdout",
     "output_type": "stream",
     "text": [
      "b'Hello, TensorFlow!'\n"
     ]
    }
   ],
   "source": [
    "import tensorflow as tf\n",
    "hello = tf.constant('Hello, TensorFlow!')\n",
    "sess = tf.Session()\n",
    "print(sess.run(hello))"
   ]
  },
  {
   "cell_type": "code",
   "execution_count": 6,
   "metadata": {},
   "outputs": [
    {
     "name": "stdout",
     "output_type": "stream",
     "text": [
      "0 [0.07167435] [0.4492998]\n",
      "20 [0.07723653] [0.31268224]\n",
      "40 [0.09391047] [0.30339268]\n",
      "60 [0.09837096] [0.3009076]\n",
      "80 [0.09956421] [0.3002428]\n",
      "100 [0.09988341] [0.30006498]\n",
      "120 [0.09996881] [0.3000174]\n",
      "140 [0.09999166] [0.30000466]\n",
      "160 [0.09999777] [0.30000126]\n",
      "180 [0.09999939] [0.30000034]\n",
      "200 [0.09999984] [0.3000001]\n"
     ]
    }
   ],
   "source": [
    "import tensorflow as tf\n",
    "import numpy as np\n",
    "\n",
    "# 準備資料\n",
    "x_data = np.random.rand(100).astype(np.float32)\n",
    "y_data = x_data * 0.1 + 0.3\n",
    "\n",
    "# W 指的是係數，斜率介於 -1 至 1 之間\n",
    "# b 指的是截距，從 0 開始逼近任意數字\n",
    "# y 指的是預測值\n",
    "W = tf.Variable(tf.random_uniform([1], -1.0, 1.0))\n",
    "b = tf.Variable(tf.zeros([1]))\n",
    "y = W * x_data + b\n",
    "\n",
    "# 我們的目標是要讓 loss（MSE）最小化\n",
    "loss = tf.reduce_mean(tf.square(y - y_data))\n",
    "optimizer = tf.train.GradientDescentOptimizer(learning_rate = 0.5)\n",
    "train = optimizer.minimize(loss)\n",
    "\n",
    "# 初始化\n",
    "init = tf.global_variables_initializer()\n",
    "\n",
    "# 將神經網絡圖畫出來\n",
    "sess = tf.Session()\n",
    "sess.run(init)\n",
    "\n",
    "# 將迴歸線的係數與截距模擬出來\n",
    "# 每跑 20 次把當時的係數與截距印出來\n",
    "for step in range(201):\n",
    "    sess.run(train)\n",
    "    if step % 20 == 0:\n",
    "        print(step, sess.run(W), sess.run(b))\n",
    "        \n",
    "# 關閉 Session\n",
    "sess.close()\n"
   ]
  },
  {
   "cell_type": "code",
   "execution_count": null,
   "metadata": {},
   "outputs": [],
   "source": []
  }
 ],
 "metadata": {
  "kernelspec": {
   "display_name": "Python 3",
   "language": "python",
   "name": "python3"
  },
  "language_info": {
   "codemirror_mode": {
    "name": "ipython",
    "version": 3
   },
   "file_extension": ".py",
   "mimetype": "text/x-python",
   "name": "python",
   "nbconvert_exporter": "python",
   "pygments_lexer": "ipython3",
   "version": "3.6.5"
  }
 },
 "nbformat": 4,
 "nbformat_minor": 2
}
